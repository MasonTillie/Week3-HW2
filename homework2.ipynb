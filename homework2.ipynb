{
 "cells": [
  {
   "cell_type": "code",
   "execution_count": 1,
   "metadata": {},
   "outputs": [
    {
     "name": "stdout",
     "output_type": "stream",
     "text": [
      "['Argentina', 'San Diego', 'Boston', 'New York']\n"
     ]
    }
   ],
   "source": [
    "# Ex 1\n",
    "\n",
    "places = [\" \",\"Argentina\", \" \", \"San Diego\",\" \",\" \",\" \",\"Boston\",\"New York\"]\n",
    "\n",
    "print(list(filter(lambda x : x != \" \", places)))\n"
   ]
  },
  {
   "cell_type": "code",
   "execution_count": 6,
   "metadata": {},
   "outputs": [],
   "source": []
  },
  {
   "cell_type": "code",
   "execution_count": null,
   "metadata": {},
   "outputs": [],
   "source": []
  },
  {
   "cell_type": "code",
   "execution_count": null,
   "metadata": {},
   "outputs": [],
   "source": [
    "# Ex 4\n",
    "\n",
    "def fib(i):\n",
    "        if i == 0:\n",
    "            return 0\n",
    "        elif i == 1:\n",
    "            return 1\n",
    "        else:\n",
    "            return fib(i-2) + fib(i-1)\n",
    "\n",
    "print(fib(7))    \n",
    "        \n",
    "    "
   ]
  }
 ],
 "metadata": {
  "kernelspec": {
   "display_name": "Python 3.10.6 64-bit",
   "language": "python",
   "name": "python3"
  },
  "language_info": {
   "codemirror_mode": {
    "name": "ipython",
    "version": 3
   },
   "file_extension": ".py",
   "mimetype": "text/x-python",
   "name": "python",
   "nbconvert_exporter": "python",
   "pygments_lexer": "ipython3",
   "version": "3.10.6"
  },
  "orig_nbformat": 4,
  "vscode": {
   "interpreter": {
    "hash": "b74a687c0cfa2191036c89d06dbe6383b3e45e5cf2ea8f7d59abc5394ae49f24"
   }
  }
 },
 "nbformat": 4,
 "nbformat_minor": 2
}
